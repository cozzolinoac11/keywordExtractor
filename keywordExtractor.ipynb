{
  "nbformat": 4,
  "nbformat_minor": 0,
  "metadata": {
    "colab": {
      "provenance": []
    },
    "kernelspec": {
      "name": "python3",
      "display_name": "Python 3"
    },
    "language_info": {
      "name": "python"
    }
  },
  "cells": [
    {
      "cell_type": "markdown",
      "source": [
        "# Keyword extraction\n",
        "What Is Keyword Extraction? Keyword extraction (also known as keyword detection or keyword analysis) is a text analysis technique that automatically extracts the most used and most important words and expressions from a text. It helps summarize the content of texts and recognize the main topics discussed.\n",
        "\n",
        "Every day, internet users create 2.5 quintillion bytes of data. Social media comments, product reviews, emails, blog posts, searches, chats, etc. We have all sorts of unstructured textual data. The question is how to sort through this chaos to find what is relevant.\n",
        "\n",
        "Keyword mining can help you extract the most important keywords or phrases from a given text without having to read a single line.\n",
        "\n",
        "Whether it's a product manager trying to analyze a stack of product reviews, a customer service manager analyzing customer interactions, or a researcher sifting through hundreds of online documents on a specific topic, you can use keyword mining to easily understand the content of a text.\n",
        "\n",
        "With keyword extraction, teams can be more efficient and harness the power of data. You can say goodbye to manual and repetitive tasks (saving countless man-hours) and access valuable information that will help you turn unstructured data into valuable knowledge."
      ],
      "metadata": {
        "id": "LOfEDbqf45PJ"
      }
    },
    {
      "cell_type": "markdown",
      "source": [
        "# NLTK import and settings"
      ],
      "metadata": {
        "id": "NhaYcT0ELF8B"
      }
    },
    {
      "cell_type": "code",
      "source": [
        "import nltk\n",
        "nltk.download('stopwords')\n",
        "nltk.download('wordnet')\n",
        "\n",
        "from nltk.stem import WordNetLemmatizer\n",
        "from nltk.corpus import stopwords\n",
        "import re"
      ],
      "metadata": {
        "id": "OtXSk8TR66KN",
        "colab": {
          "base_uri": "https://localhost:8080/"
        },
        "outputId": "315fcd4a-d171-46d2-88fe-c5a5648ae396"
      },
      "execution_count": 1,
      "outputs": [
        {
          "output_type": "stream",
          "name": "stderr",
          "text": [
            "[nltk_data] Downloading package stopwords to /root/nltk_data...\n",
            "[nltk_data]   Package stopwords is already up-to-date!\n",
            "[nltk_data] Downloading package wordnet to /root/nltk_data...\n",
            "[nltk_data]   Package wordnet is already up-to-date!\n"
          ]
        }
      ]
    },
    {
      "cell_type": "markdown",
      "source": [
        "# KeyBERT import"
      ],
      "metadata": {
        "id": "yBjguZEtLLyR"
      }
    },
    {
      "cell_type": "code",
      "execution_count": null,
      "metadata": {
        "id": "SoSQUt49l01m"
      },
      "outputs": [],
      "source": [
        "! pip3 install keybert\n",
        "\n",
        "from keybert import KeyBERT"
      ]
    },
    {
      "cell_type": "markdown",
      "source": [
        "# Keywords extractor:\n",
        "- text pre-processing and clenaning\n",
        "- keyword extraction\n",
        "- keyword selection"
      ],
      "metadata": {
        "id": "Q7FMbWO8vPPa"
      }
    },
    {
      "cell_type": "code",
      "source": [
        "def get_keywords(description, n_keywords=5, min_len=1, max_len=3):\n",
        "  wn = WordNetLemmatizer()\n",
        "  description = description.replace(\"\\n\", \" \")\n",
        "  description = re.sub('[^a-zA-Z]', ' ', description)\n",
        "  description = description.split()\n",
        "  description = [word for word in description if word not in stopwords.words('english')]\n",
        "  description = [wn.lemmatize(word) for word in description]\n",
        "  description = ' '.join(description)\n",
        "  kw_model = KeyBERT(model='all-mpnet-base-v2')\n",
        "  kw = kw_model.extract_keywords(description, keyphrase_ngram_range=(min_len, max_len), top_n = n_keywords, use_mmr=True)\n",
        "  keywords = []\n",
        "  for i in kw:\n",
        "    keywords.append(i[0])\n",
        "  return ', '.join(keywords)"
      ],
      "metadata": {
        "id": "NEs_wMUBzHgi"
      },
      "execution_count": 3,
      "outputs": []
    },
    {
      "cell_type": "markdown",
      "source": [
        "# *Newspaper article on Kaggle and Google*\n",
        "\n",
        "    Sources tell us that Google is acquiring Kaggle, a platform that hosts data science and machine learning competitions. Details about the transaction remain somewhat vague, but given that Google is hosting its Cloud Next conference in San Francisco this week, the official announcement could come as early as tomorrow.\n",
        "    Reached by phone, Kaggle co-founder CEO Anthony Goldbloom declined to deny that the acquisition is happening. Google itself declined to comment on rumors.\n",
        "    Kaggle, which has about half a million data scientists on its platform, was founded by Goldbloom and Ben Hamner in 2010. The service got an early start and even though it has a few competitors like DrivenData, TopCoder and HackerRank, it has managed to stay well ahead of them by focusing on its specific niche. The service is basically the de facto home for running data science — and machine learning — competitions.\n",
        "    With Kaggle, Google is buying one of the largest and most active communities for data scientists — and with that, it will get increased mindshare in this community, too (though it already has plenty of that thanks to Tensorflow and other projects).\n",
        "    Kaggle has a bit of a history with Google, too, but that’s pretty recent. Earlier this month, Google and Kaggle teamed up to host a $100,000 machine learning competition around classifying YouTube videos. That competition had some deep integrations with the Google Cloud Platform, too."
      ],
      "metadata": {
        "id": "KS2uZMI0g3JK"
      }
    },
    {
      "cell_type": "code",
      "source": [
        "doc_example_1 = '''\n",
        "                    Sources tell us that Google is acquiring Kaggle, a platform that hosts data science and machine learning competitions. Details about the transaction remain somewhat vague, but given that Google is hosting its Cloud Next conference in San Francisco this week, the official announcement could come as early as tomorrow.\n",
        "                    Reached by phone, Kaggle co-founder CEO Anthony Goldbloom declined to deny that the acquisition is happening. Google itself declined to comment on rumors.\n",
        "                    Kaggle, which has about half a million data scientists on its platform, was founded by Goldbloom and Ben Hamner in 2010. The service got an early start and even though it has a few competitors like DrivenData, TopCoder and HackerRank, it has managed to stay well ahead of them by focusing on its specific niche. The service is basically the de facto home for running data science — and machine learning — competitions.\n",
        "                    With Kaggle, Google is buying one of the largest and most active communities for data scientists — and with that, it will get increased mindshare in this community, too (though it already has plenty of that thanks to Tensorflow and other projects).\n",
        "                    Kaggle has a bit of a history with Google, too, but that's pretty recent. Earlier this month, Google and Kaggle teamed up to host a $100,000 machine learning competition around classifying YouTube videos. That competition had some deep integrations with the Google Cloud Platform, too.\n",
        "                '''\n",
        "key_example_1 = get_keywords(doc_example_1)\n",
        "key_example_1"
      ],
      "metadata": {
        "id": "5kuJ4TjLey4T",
        "colab": {
          "base_uri": "https://localhost:8080/",
          "height": 35
        },
        "outputId": "185b832d-a187-41e5-b0b2-37392891b355"
      },
      "execution_count": 4,
      "outputs": [
        {
          "output_type": "execute_result",
          "data": {
            "text/plain": [
              "'google acquiring kaggle, google cloud platform, data scientist platform, competition details, founded goldbloom ben'"
            ],
            "application/vnd.google.colaboratory.intrinsic+json": {
              "type": "string"
            }
          },
          "metadata": {},
          "execution_count": 4
        }
      ]
    },
    {
      "cell_type": "markdown",
      "source": [
        "# *The electric car revolution: is it realistic or optimistic?*\n",
        "    \n",
        "    Electric vehicles have arrived. With technology led by Tesla, and all of the world's major car manufacturers following along behind, electric vehicles are now a common sight on the roads of most developed countries.  Yet the situation in less developed countries is rather different; the only African country to have started the change to electric vehicles is South Africa and even there, electric vehicles still account for less than 0.01% of the total number of cars on the roads. In South America, the situation is better, with all Latin American countries beginning the move towards electric vehicles, particularly Columbia which, in 2020, had a third of the continent's total electric car fleet. In Russia, the wealthy are investing in imported electric cars, but no electric cars are yet manufactured locally, while in India the government is promoting the purchase of electric vehicles with tax exemptions and other incentives. So electric cars have arrived, and their share of the market is increasing almost  worldwide.\n",
        "    Does this mean, therefore, that the world is on track to phase out the use of petrol-driven vehicles in less than thirty years? And does it mean that electric vehicles are the sustainable solution to our transport needs for the second half of the century? Unfortunately, to the disappointment of some people, the answer to both of these questions has to be \"no\".\n",
        "    The massive development of electric vehicles can only be possible if two conditions are met. Firstly the expansion of electric vehicle manufacturing is dependent on the fragile ability of manufacturers to source vastly increased quantities of  vital components and elements without which electric vehicles cannot operate; these include lithium, cobalt and \"rare earths\" such as neodymium and tantalum, as well as silicon chips which have already been in short supply since 2020.  Secondly, few countries currently have electricity grids that are anywhere near being able to cope with the huge increase in demand for electricity that will accompany any rapid growth in electric vehicle ownership.  Without adequate supplies of all the vital ingredients of electric motors and batteries, or without power supplies that are able to provide the electricity needed to recharge millions of electric batteries every day (as well as supplying the current we need for everything else, such as lighting, heating, trains and electric devices), the electric car revolution will run up against insoluble problems.\n",
        "    Governments and vehicle manufacturers are fully aware of these issues, but the consensus among policy-makers seems to be that somehow technology will come up with the answers, as it often has in the past. Analysts also predict that changing social attitudes and environmental awareness will lead to a reduction in private vehicle use and a fall in the numbers of vehicles on the roads. This prediction is likely to be right, though not necessarily for those reasons alone; any shortage of  essential components will force up the cost of electric vehicles, and any shortage of battery recharging facilities or capacity will discourage people from buying electric vehicles, leading to a fall in the number of vehicles on the roads.\n",
        "    Ultimately the success of the transition to electric powered vehicles will depend on advances in technology in three fields; the weight of batteries, the amount of power that they can produce, and the speed at which they can be recharged... or exchanged.\n",
        "    It may surprise you to learn that electric vehicles are not a new idea; indeed, at the start of the automobile age in the late 19th century, America had as many electric cars as gas-driven cars, and New York's biggest taxi company used electric vehicles. In order to keep their taxis on the road when the batteries ran low, they set up battery points at strategic locations where instead of recharging their batteries, drivers would just exchange them for fully recharged ones, a process that took no longer than refilling with gasolene.\n",
        "    Thus battery exchange stations, rather than battery recharging points, may perhaps solve the problem of slow recharging times which currently prevents owners taking their electric vehicles on long trips. Yet battery exchange is not an option with today's large heavy batteries. While the latest generation of Lithium-ion batteries are almost twice as efficient as the batteries being used just five years ago, they remain big and heavy.  Before batteries can become easy to exchange, a quantum leap in battery technology is needed, one which will allow batteries to store much larger amounts of electricity in much smaller and lighter units. Teams of top electrical engineers  in universities and private laboratories worldwide are working on battery technology, and progress has been rapid.... New types of lithium batteries are being developed, but the radical discovery that will revolutionise battery design is still to be made.\n",
        "    As for the availability of clean renewable electricity in sufficient quantities to cope with demand from all the world's electric vehicles, progress in this direction is already underway. Ideally, notably in hot countries and outside cities, recharging points will be autonomous, generating their own electricity from solar panels and wind or water turbines and storing it either mechanically or in high-powered batteries. The technology already exists, and a California company, Beam Global, recently installed 30 solar-powered recharging stations in sunny parts of the state.\n",
        "    So are people who believe in the ability of technology to solve all our problems being realistic, or over-optimistic? And will other problems such as environmental issues and the availability of vital materials throw a spanner in the works? Will all the world's countries be able to complete the electric vehicle revolution, or will the world's poorer nations get left behind.... yet again? For the time being, progress is upwards, but can it continue? In terms of volume, the electric vehicle revolution has only just got underway.."
      ],
      "metadata": {
        "id": "6L8MtLhSHVzQ"
      }
    },
    {
      "cell_type": "code",
      "source": [
        "doc_example_2 = '''\n",
        "                      Electric vehicles have arrived. With technology led by Tesla, and all of the world's major car manufacturers following along behind, electric vehicles are now a common sight on the roads of most developed countries.  Yet the situation in less developed countries is rather different; the only African country to have started the change to electric vehicles is South Africa and even there, electric vehicles still account for less than 0.01% of the total number of cars on the roads. In South America, the situation is better, with all Latin American countries beginning the move towards electric vehicles, particularly Columbia which, in 2020, had a third of the continent's total electric car fleet. In Russia, the wealthy are investing in imported electric cars, but no electric cars are yet manufactured locally, while in India the government is promoting the purchase of electric vehicles with tax exemptions and other incentives. So electric cars have arrived, and their share of the market is increasing almost  worldwide.\n",
        "                      Does this mean, therefore, that the world is on track to phase out the use of petrol-driven vehicles in less than thirty years? And does it mean that electric vehicles are the sustainable solution to our transport needs for the second half of the century? Unfortunately, to the disappointment of some people, the answer to both of these questions has to be \"no\".\n",
        "                      The massive development of electric vehicles can only be possible if two conditions are met. Firstly the expansion of electric vehicle manufacturing is dependent on the fragile ability of manufacturers to source vastly increased quantities of  vital components and elements without which electric vehicles cannot operate; these include lithium, cobalt and \"rare earths\" such as neodymium and tantalum, as well as silicon chips which have already been in short supply since 2020.  Secondly, few countries currently have electricity grids that are anywhere near being able to cope with the huge increase in demand for electricity that will accompany any rapid growth in electric vehicle ownership.  Without adequate supplies of all the vital ingredients of electric motors and batteries, or without power supplies that are able to provide the electricity needed to recharge millions of electric batteries every day (as well as supplying the current we need for everything else, such as lighting, heating, trains and electric devices), the electric car revolution will run up against insoluble problems.\n",
        "                      Governments and vehicle manufacturers are fully aware of these issues, but the consensus among policy-makers seems to be that somehow technology will come up with the answers, as it often has in the past. Analysts also predict that changing social attitudes and environmental awareness will lead to a reduction in private vehicle use and a fall in the numbers of vehicles on the roads. This prediction is likely to be right, though not necessarily for those reasons alone; any shortage of  essential components will force up the cost of electric vehicles, and any shortage of battery recharging facilities or capacity will discourage people from buying electric vehicles, leading to a fall in the number of vehicles on the roads.\n",
        "                      Ultimately the success of the transition to electric powered vehicles will depend on advances in technology in three fields; the weight of batteries, the amount of power that they can produce, and the speed at which they can be recharged... or exchanged.\n",
        "                      It may surprise you to learn that electric vehicles are not a new idea; indeed, at the start of the automobile age in the late 19th century, America had as many electric cars as gas-driven cars, and New York's biggest taxi company used electric vehicles. In order to keep their taxis on the road when the batteries ran low, they set up battery points at strategic locations where instead of recharging their batteries, drivers would just exchange them for fully recharged ones, a process that took no longer than refilling with gasolene.\n",
        "                      Thus battery exchange stations, rather than battery recharging points, may perhaps solve the problem of slow recharging times which currently prevents owners taking their electric vehicles on long trips. Yet battery exchange is not an option with today's large heavy batteries. While the latest generation of Lithium-ion batteries are almost twice as efficient as the batteries being used just five years ago, they remain big and heavy.  Before batteries can become easy to exchange, a quantum leap in battery technology is needed, one which will allow batteries to store much larger amounts of electricity in much smaller and lighter units. Teams of top electrical engineers  in universities and private laboratories worldwide are working on battery technology, and progress has been rapid.... New types of lithium batteries are being developed, but the radical discovery that will revolutionise battery design is still to be made.\n",
        "                      As for the availability of clean renewable electricity in sufficient quantities to cope with demand from all the world's electric vehicles, progress in this direction is already underway. Ideally, notably in hot countries and outside cities, recharging points will be autonomous, generating their own electricity from solar panels and wind or water turbines and storing it either mechanically or in high-powered batteries. The technology already exists, and a California company, Beam Global, recently installed 30 solar-powered recharging stations in sunny parts of the state.\n",
        "                      So are people who believe in the ability of technology to solve all our problems being realistic, or over-optimistic? And will other problems such as environmental issues and the availability of vital materials throw a spanner in the works? Will all the world's countries be able to complete the electric vehicle revolution, or will the world's poorer nations get left behind.... yet again? For the time being, progress is upwards, but can it continue? In terms of volume, the electric vehicle revolution has only just got underway..\n",
        "                '''\n",
        "\n",
        "key_example_2 = get_keywords(doc_example_2)\n",
        "key_example_2"
      ],
      "metadata": {
        "colab": {
          "base_uri": "https://localhost:8080/",
          "height": 35
        },
        "id": "D3LM9j9oGuZE",
        "outputId": "5803ce49-5b0e-4021-b9ce-7b8a335a7bdc"
      },
      "execution_count": 5,
      "outputs": [
        {
          "output_type": "execute_result",
          "data": {
            "text/plain": [
              "'electric vehicle revolution, demand electricity accompany, developed country situation, vehicle possible condition, problem environmental issue'"
            ],
            "application/vnd.google.colaboratory.intrinsic+json": {
              "type": "string"
            }
          },
          "metadata": {},
          "execution_count": 5
        }
      ]
    },
    {
      "cell_type": "markdown",
      "source": [
        "# *A threat to bananas*\n",
        "\n",
        "    In the 1950s, Central American commercial banana growers were facing the death of their most lucrative product, the Gros Michel banana, known as Big Mike. And now it's happening again to Big Mike's successor - the Cavendish.\n",
        "    With its easily transported, thick-skinned and sweet-tasting fruit, the Gros Michel banana plant dominated the plantations of Central America. United Fruit, the main grower and exporter in South America at the time, mass-produced its bananas in the most efficient way possible: it cloned shoots from the stems of plants instead of growing plants from seeds, and cultivated them in densely packed fields.\n",
        "    Unfortunately, these conditions are also perfect for the spread of the fungus Fusarium oxysporum f. sp. cubense, which attacks the plant's roots and prevents it from transporting water to the stem and leaves. The TR-1 strain of the fungus was resistant to crop sprays and travelled around on boots or the tyres of trucks, slowly infecting plantations across the region. In an attempt to escape the fungus, farmers abandoned infected fields, flooded them and then replanted crops somewhere else, often cutting down rainforest to do so.\n",
        "    Their efforts failed. So, instead, they searched for a variety of banana that the fungus didn't affect. They found the Cavendish, as it was called, in the greenhouse of a British duke. It wasn't as well suited to shipping as the Gros Michel, but its bananas tasted good enough to keep consumers happy. Most importantly, TR-1 didn't seem to affect it. In a few years, United Fruit had saved itself from bankruptcy by filling its plantations with thousands of the new plants, copying the same monoculture growing conditions Gros Michel had thrived in.\n",
        "    While the operation was a huge success for the Latin American industry, the Cavendish banana itself is far from safe. In 2014, South East Asia, another major banana producer, exported four million tons of Cavendish bananas. But, in 2015, its exports had dropped by 46 per cent thanks to a combination of another strain of the fungus, TR-4, and bad weather.\n",
        "    Growing practices in South East Asia haven't helped matters. Growers can't always afford the expensive lab-based methods to clone plants from shoots without spreading the disease. Also, they often aren't strict enough about cleaning farm equipment and quarantining infected fields. As a result, the fungus has spread to Australia, the Middle East and Mozambique - and Latin America, heavily dependent on its monoculture Cavendish crops, could easily be next.\n",
        "    Racing against the inevitable, scientists are working on solving the problem by genetically modifying the Cavendish with genes from TR-4-resistant banana species. Researchers at the Queensland University of Technology have successfully grown two kinds of modified plant which have remained resistant for three years so far. But some experts think this is just a sophisticated version of the same temporary solution the original Cavendish provided. If the new bananas are planted in the same monocultures as the Cavendish and the Gros Michel before it, the risk is that another strain of the disease may rise up to threaten the modified plants too."
      ],
      "metadata": {
        "id": "plT8uh1PJE_k"
      }
    },
    {
      "cell_type": "code",
      "source": [
        "doc_example_3 = '''\n",
        "                      In the 1950s, Central American commercial banana growers were facing the death of their most lucrative product, the Gros Michel banana, known as Big Mike. And now it's happening again to Big Mike's successor - the Cavendish.\n",
        "                      With its easily transported, thick-skinned and sweet-tasting fruit, the Gros Michel banana plant dominated the plantations of Central America. United Fruit, the main grower and exporter in South America at the time, mass-produced its bananas in the most efficient way possible: it cloned shoots from the stems of plants instead of growing plants from seeds, and cultivated them in densely packed fields.\n",
        "                      Unfortunately, these conditions are also perfect for the spread of the fungus Fusarium oxysporum f. sp. cubense, which attacks the plant's roots and prevents it from transporting water to the stem and leaves. The TR-1 strain of the fungus was resistant to crop sprays and travelled around on boots or the tyres of trucks, slowly infecting plantations across the region. In an attempt to escape the fungus, farmers abandoned infected fields, flooded them and then replanted crops somewhere else, often cutting down rainforest to do so.\n",
        "                      Their efforts failed. So, instead, they searched for a variety of banana that the fungus didn't affect. They found the Cavendish, as it was called, in the greenhouse of a British duke. It wasn't as well suited to shipping as the Gros Michel, but its bananas tasted good enough to keep consumers happy. Most importantly, TR-1 didn't seem to affect it. In a few years, United Fruit had saved itself from bankruptcy by filling its plantations with thousands of the new plants, copying the same monoculture growing conditions Gros Michel had thrived in.\n",
        "                      While the operation was a huge success for the Latin American industry, the Cavendish banana itself is far from safe. In 2014, South East Asia, another major banana producer, exported four million tons of Cavendish bananas. But, in 2015, its exports had dropped by 46 per cent thanks to a combination of another strain of the fungus, TR-4, and bad weather.\n",
        "                      Growing practices in South East Asia haven't helped matters. Growers can't always afford the expensive lab-based methods to clone plants from shoots without spreading the disease. Also, they often aren't strict enough about cleaning farm equipment and quarantining infected fields. As a result, the fungus has spread to Australia, the Middle East and Mozambique - and Latin America, heavily dependent on its monoculture Cavendish crops, could easily be next.\n",
        "                      Racing against the inevitable, scientists are working on solving the problem by genetically modifying the Cavendish with genes from TR-4-resistant banana species. Researchers at the Queensland University of Technology have successfully grown two kinds of modified plant which have remained resistant for three years so far. But some experts think this is just a sophisticated version of the same temporary solution the original Cavendish provided. If the new bananas are planted in the same monocultures as the Cavendish and the Gros Michel before it, the risk is that another strain of the disease may rise up to threaten the modified plants too.\n",
        "                '''\n",
        "\n",
        "key_example_3 = get_keywords(doc_example_3)\n",
        "key_example_3"
      ],
      "metadata": {
        "colab": {
          "base_uri": "https://localhost:8080/",
          "height": 35
        },
        "id": "TOWmC4dHG4xi",
        "outputId": "66d88b26-6975-4087-cde8-4af56d0196a1"
      },
      "execution_count": 6,
      "outputs": [
        {
          "output_type": "execute_result",
          "data": {
            "text/plain": [
              "'variety banana fungus, industry cavendish banana, genetically modifying cavendish, quarantining infected field, cutting rainforest effort'"
            ],
            "application/vnd.google.colaboratory.intrinsic+json": {
              "type": "string"
            }
          },
          "metadata": {},
          "execution_count": 6
        }
      ]
    }
  ]
}